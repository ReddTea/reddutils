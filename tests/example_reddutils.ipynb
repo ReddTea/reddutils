{
 "cells": [
  {
   "cell_type": "markdown",
   "id": "9eaa31d0",
   "metadata": {},
   "source": [
    "# Test 1. Exodus\n",
    "### Visualise the exoplanet population from different online repos"
   ]
  },
  {
   "cell_type": "code",
   "execution_count": 1,
   "id": "30c43739",
   "metadata": {},
   "outputs": [
    {
     "data": {
      "application/vnd.jupyter.widget-view+json": {
       "model_id": "538c11c32e894112a21e8fcc11ddb177",
       "version_major": 2,
       "version_minor": 0
      },
      "text/plain": [
       "VBox(children=(Tab(children=(VBox(children=(HBox(children=(Dropdown(description='x-axis:', index=10, options=(…"
      ]
     },
     "metadata": {},
     "output_type": "display_data"
    }
   ],
   "source": [
    "from reddutils import exodus\n",
    "\n",
    "#exopop = exodus.Exoplanet_Archive()\n",
    "#exopop = exodus.Exoplanet_Archive('NasaExoplanetArchive')\n",
    "exopop = exodus.Exoplanet_Archive('ExoplanetEU2')\n",
    "#exopop = exodus.Exoplanet_Archive('ExoplanetsOrg')\n",
    "\n",
    "exopop.display()"
   ]
  },
  {
   "cell_type": "markdown",
   "id": "71628d64",
   "metadata": {},
   "source": [
    "## Try out the histogram mode!"
   ]
  },
  {
   "cell_type": "code",
   "execution_count": 2,
   "id": "2302ec81",
   "metadata": {},
   "outputs": [
    {
     "data": {
      "application/vnd.jupyter.widget-view+json": {
       "model_id": "0335dd3c6c2c4a72ac1269cb754e18d0",
       "version_major": 2,
       "version_minor": 0
      },
      "text/plain": [
       "VBox(children=(Tab(children=(VBox(children=(HBox(children=(Dropdown(description='x-axis:', index=10, options=(…"
      ]
     },
     "metadata": {},
     "output_type": "display_data"
    }
   ],
   "source": [
    "exopop.display_hist()"
   ]
  },
  {
   "cell_type": "markdown",
   "id": "49fee6d5",
   "metadata": {},
   "source": [
    "# Test 2. Periodogram\n",
    "Lets import some RV data:"
   ]
  },
  {
   "cell_type": "markdown",
   "id": "0342dbb7",
   "metadata": {},
   "source": [
    "## Import data\n",
    "RVs for GJ876, from [Millholland et al. 2018](https://iopscience.iop.org/article/10.3847/1538-3881/aaa894#ajaaa894t1)"
   ]
  },
  {
   "cell_type": "code",
   "execution_count": 3,
   "id": "81ae8a7b",
   "metadata": {},
   "outputs": [],
   "source": [
    "import pandas as pd\n",
    "import numpy as np\n",
    "\n",
    "url = 'https://pastebin.com/raw/FKqtW0Se'\n",
    "df = pd.read_table(url, skiprows=[i for i in range(0,25)], delim_whitespace=True,\n",
    "                   usecols=[0,2,3,4,5], names=['Instrument', 'Time', 'RV', 'RVe', 'S-index'])\n",
    "\n",
    "df = df[df['Instrument']==1].drop('Instrument', axis=1)"
   ]
  },
  {
   "cell_type": "markdown",
   "id": "07282a8d",
   "metadata": {},
   "source": [
    "### We select and instrument\n",
    "    1 = ESO/HARPS, Correia et al. (2010A&A...511A..21C);\n",
    "    2 = ESO/HARPS, new;\n",
    "    3 = Keck/HIRES pre-upgrade;\n",
    "    4 = Keck/HIRES post-upgrade;\n",
    "    5 = Automated Planet Finder (APF) Levy Spectrograph;\n",
    "    6 = Carnegie Planet Finder Spectrograph (PFS) on Magellan;"
   ]
  },
  {
   "cell_type": "code",
   "execution_count": 4,
   "id": "d75625d2",
   "metadata": {},
   "outputs": [
    {
     "data": {
      "application/vnd.jupyter.widget-view+json": {
       "model_id": "a683923c3c284bdb8220a33b7d06a352",
       "version_major": 2,
       "version_minor": 0
      },
      "text/plain": [
       "VBox(children=(Tab(children=(VBox(children=(HBox(children=(FileUpload(value={}, description='Upload'),)), HBox…"
      ]
     },
     "metadata": {},
     "output_type": "display_data"
    }
   ],
   "source": [
    "from reddutils import periodogram\n",
    "\n",
    "lsp = periodogram.LSP()\n",
    "lsp.display(df)"
   ]
  },
  {
   "cell_type": "markdown",
   "id": "362385c9",
   "metadata": {},
   "source": [
    "# Test 3. Correlator"
   ]
  },
  {
   "cell_type": "code",
   "execution_count": 5,
   "id": "f4f0a7c7",
   "metadata": {},
   "outputs": [
    {
     "data": {
      "application/vnd.jupyter.widget-view+json": {
       "model_id": "7f2158aacd63450fb6312e00e61bb10a",
       "version_major": 2,
       "version_minor": 0
      },
      "text/plain": [
       "VBox(children=(Tab(children=(VBox(children=(HBox(children=(Dropdown(description='x-axis:', options=('Time', 'R…"
      ]
     },
     "metadata": {},
     "output_type": "display_data"
    }
   ],
   "source": [
    "from reddutils import correlator\n",
    "\n",
    "cor = correlator.correlator()\n",
    "cor.display(df)"
   ]
  },
  {
   "cell_type": "markdown",
   "id": "518ae8df",
   "metadata": {},
   "source": [
    "# Test 4. Fourier gadget"
   ]
  },
  {
   "cell_type": "code",
   "execution_count": 6,
   "id": "576e60b1",
   "metadata": {},
   "outputs": [
    {
     "data": {
      "application/vnd.jupyter.widget-view+json": {
       "model_id": "42f4996edd4346dfb2b0dc69851d2235",
       "version_major": 2,
       "version_minor": 0
      },
      "text/plain": [
       "VBox(children=(Tab(children=(VBox(children=(HBox(children=(Dropdown(description='Signal Type:', options=('Cosi…"
      ]
     },
     "metadata": {},
     "output_type": "display_data"
    }
   ],
   "source": [
    "from reddutils_test import fourier\n",
    "\n",
    "fou = fourier.fourier()\n",
    "fou.display()"
   ]
  },
  {
   "cell_type": "code",
   "execution_count": null,
   "id": "0b163a93",
   "metadata": {},
   "outputs": [],
   "source": []
  }
 ],
 "metadata": {
  "kernelspec": {
   "display_name": "Python 3 (ipykernel)",
   "language": "python",
   "name": "python3"
  },
  "language_info": {
   "codemirror_mode": {
    "name": "ipython",
    "version": 3
   },
   "file_extension": ".py",
   "mimetype": "text/x-python",
   "name": "python",
   "nbconvert_exporter": "python",
   "pygments_lexer": "ipython3",
   "version": "3.9.12"
  }
 },
 "nbformat": 4,
 "nbformat_minor": 5
}

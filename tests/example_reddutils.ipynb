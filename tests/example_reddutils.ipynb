{
 "cells": [
  {
   "cell_type": "markdown",
   "id": "9eaa31d0",
   "metadata": {},
   "source": [
    "# Test 1. Exodus\n",
    "### Visualise the exoplanet population from different online repos"
   ]
  },
  {
   "cell_type": "code",
   "execution_count": 1,
   "id": "30c43739",
   "metadata": {},
   "outputs": [
    {
     "name": "stdout",
     "output_type": "stream",
     "text": [
      "--------------------\n",
      "| PyA User warning |\n",
      "--------------------\n",
      "What happened?\n",
      "    The directory /Users/reddtea/PyAData' was specified as data path in file '/Users/reddtea/.pyaConfigWhere', but it does no longer exist! No data can be stored.\n",
      "What are possible solutions?\n",
      "  - Delete file '/Users/reddtea/.pyaConfigWhere' to allow reconfiguration.\n",
      "  - Modify the file content by giving the (modified) location of the data directory.\n",
      "\n"
     ]
    },
    {
     "ename": "PyAValError",
     "evalue": "\n---------------------\nA PyA error occurred:\n---------------------\nType of error: PyA Value Error\nWhat happened?\n    No valid data and configuration directory for PyA could be found.\nWhat are possible solutions?\n  - Check/Repeat initialization (maybe remove '.pyaConfigWhere' in home directory).\n",
     "output_type": "error",
     "traceback": [
      "\u001b[0;31m---------------------------------------------------------------------------\u001b[0m",
      "\u001b[0;31mPyAValError\u001b[0m                               Traceback (most recent call last)",
      "\u001b[0;32m/var/folders/jd/shbf58jj7s3242cvlyrtstw40000gn/T/ipykernel_9075/3497982469.py\u001b[0m in \u001b[0;36m<module>\u001b[0;34m\u001b[0m\n\u001b[1;32m      6\u001b[0m \u001b[0;31m#exopop = exodus.Exoplanet_Archive('ExoplanetsOrg')\u001b[0m\u001b[0;34m\u001b[0m\u001b[0;34m\u001b[0m\u001b[0m\n\u001b[1;32m      7\u001b[0m \u001b[0;34m\u001b[0m\u001b[0m\n\u001b[0;32m----> 8\u001b[0;31m \u001b[0mexopop\u001b[0m\u001b[0;34m.\u001b[0m\u001b[0mdisplay\u001b[0m\u001b[0;34m(\u001b[0m\u001b[0;34m)\u001b[0m\u001b[0;34m\u001b[0m\u001b[0;34m\u001b[0m\u001b[0m\n\u001b[0m",
      "\u001b[0;32m~/opt/anaconda3/lib/python3.9/site-packages/reddutils/exodus/__init__.py\u001b[0m in \u001b[0;36mdisplay\u001b[0;34m(self)\u001b[0m\n\u001b[1;32m    850\u001b[0m \u001b[0;34m\u001b[0m\u001b[0m\n\u001b[1;32m    851\u001b[0m     \u001b[0;32mdef\u001b[0m \u001b[0mdisplay\u001b[0m\u001b[0;34m(\u001b[0m\u001b[0mself\u001b[0m\u001b[0;34m)\u001b[0m\u001b[0;34m:\u001b[0m\u001b[0;34m\u001b[0m\u001b[0;34m\u001b[0m\u001b[0m\n\u001b[0;32m--> 852\u001b[0;31m         \u001b[0mself\u001b[0m\u001b[0;34m.\u001b[0m\u001b[0mset_data\u001b[0m\u001b[0;34m(\u001b[0m\u001b[0;34m)\u001b[0m\u001b[0;34m\u001b[0m\u001b[0;34m\u001b[0m\u001b[0m\n\u001b[0m\u001b[1;32m    853\u001b[0m         \u001b[0;31m#raise ValueError('String not recognised! Try with offline/NEXA/exoplanetEU/exoplanetsORG')\u001b[0m\u001b[0;34m\u001b[0m\u001b[0;34m\u001b[0m\u001b[0m\n\u001b[1;32m    854\u001b[0m \u001b[0;34m\u001b[0m\u001b[0m\n",
      "\u001b[0;32m~/opt/anaconda3/lib/python3.9/site-packages/reddutils/exodus/__init__.py\u001b[0m in \u001b[0;36mset_data\u001b[0;34m(self)\u001b[0m\n\u001b[1;32m    780\u001b[0m \u001b[0;34m\u001b[0m\u001b[0m\n\u001b[1;32m    781\u001b[0m         \u001b[0;32melif\u001b[0m \u001b[0mself\u001b[0m\u001b[0;34m.\u001b[0m\u001b[0mdata\u001b[0m \u001b[0;34m==\u001b[0m \u001b[0;34m'ExoplanetEU2'\u001b[0m\u001b[0;34m:\u001b[0m\u001b[0;34m\u001b[0m\u001b[0;34m\u001b[0m\u001b[0m\n\u001b[0;32m--> 782\u001b[0;31m             \u001b[0mv\u001b[0m \u001b[0;34m=\u001b[0m \u001b[0mpyasl\u001b[0m\u001b[0;34m.\u001b[0m\u001b[0mExoplanetEU2\u001b[0m\u001b[0;34m(\u001b[0m\u001b[0;34m)\u001b[0m\u001b[0;34m\u001b[0m\u001b[0;34m\u001b[0m\u001b[0m\n\u001b[0m\u001b[1;32m    783\u001b[0m             \u001b[0mself\u001b[0m\u001b[0;34m.\u001b[0m\u001b[0md\u001b[0m \u001b[0;34m=\u001b[0m \u001b[0mv\u001b[0m\u001b[0;34m.\u001b[0m\u001b[0mgetAllDataPandas\u001b[0m\u001b[0;34m(\u001b[0m\u001b[0;34m)\u001b[0m\u001b[0;34m\u001b[0m\u001b[0;34m\u001b[0m\u001b[0m\n\u001b[1;32m    784\u001b[0m             \u001b[0mself\u001b[0m\u001b[0;34m.\u001b[0m\u001b[0mss\u001b[0m \u001b[0;34m=\u001b[0m \u001b[0mpd\u001b[0m\u001b[0;34m.\u001b[0m\u001b[0mread_csv\u001b[0m\u001b[0;34m(\u001b[0m\u001b[0mget_data\u001b[0m\u001b[0;34m(\u001b[0m\u001b[0;34m'tables/ss_list_epeu.csv'\u001b[0m\u001b[0;34m)\u001b[0m\u001b[0;34m)\u001b[0m\u001b[0;34m\u001b[0m\u001b[0;34m\u001b[0m\u001b[0m\n",
      "\u001b[0;32m~/opt/anaconda3/lib/python3.9/site-packages/PyAstronomy/pyasl/resBased/exoplanetEU.py\u001b[0m in \u001b[0;36m__init__\u001b[0;34m(self, skipUpdate, forceUpdate)\u001b[0m\n\u001b[1;32m    591\u001b[0m \u001b[0;34m\u001b[0m\u001b[0m\n\u001b[1;32m    592\u001b[0m         \u001b[0mconfigFilename\u001b[0m \u001b[0;34m=\u001b[0m \u001b[0mos\u001b[0m\u001b[0;34m.\u001b[0m\u001b[0mpath\u001b[0m\u001b[0;34m.\u001b[0m\u001b[0mjoin\u001b[0m\u001b[0;34m(\u001b[0m\u001b[0;34m\"pyasl\"\u001b[0m\u001b[0;34m,\u001b[0m \u001b[0;34m\"resBased\"\u001b[0m\u001b[0;34m,\u001b[0m \u001b[0;34m\"epeuvo.cfg\"\u001b[0m\u001b[0;34m)\u001b[0m\u001b[0;34m\u001b[0m\u001b[0;34m\u001b[0m\u001b[0m\n\u001b[0;32m--> 593\u001b[0;31m         \u001b[0mpp\u001b[0m\u001b[0;34m.\u001b[0m\u001b[0mPyAUpdateCycle\u001b[0m\u001b[0;34m.\u001b[0m\u001b[0m__init__\u001b[0m\u001b[0;34m(\u001b[0m\u001b[0mself\u001b[0m\u001b[0;34m,\u001b[0m \u001b[0mconfigFilename\u001b[0m\u001b[0;34m,\u001b[0m \u001b[0;34m\"ExoUpdate\"\u001b[0m\u001b[0;34m)\u001b[0m\u001b[0;34m\u001b[0m\u001b[0;34m\u001b[0m\u001b[0m\n\u001b[0m\u001b[1;32m    594\u001b[0m         \u001b[0mself\u001b[0m\u001b[0;34m.\u001b[0m\u001b[0mdataFileName\u001b[0m \u001b[0;34m=\u001b[0m \u001b[0mos\u001b[0m\u001b[0;34m.\u001b[0m\u001b[0mpath\u001b[0m\u001b[0;34m.\u001b[0m\u001b[0mjoin\u001b[0m\u001b[0;34m(\u001b[0m\u001b[0;34m\"pyasl\"\u001b[0m\u001b[0;34m,\u001b[0m \u001b[0;34m\"resBased\"\u001b[0m\u001b[0;34m,\u001b[0m \u001b[0;34m\"epeu.vo.gz\"\u001b[0m\u001b[0;34m)\u001b[0m\u001b[0;34m\u001b[0m\u001b[0;34m\u001b[0m\u001b[0m\n\u001b[1;32m    595\u001b[0m         \u001b[0mself\u001b[0m\u001b[0;34m.\u001b[0m\u001b[0m_fs\u001b[0m \u001b[0;34m=\u001b[0m \u001b[0mpp\u001b[0m\u001b[0;34m.\u001b[0m\u001b[0mPyAFS\u001b[0m\u001b[0;34m(\u001b[0m\u001b[0;34m)\u001b[0m\u001b[0;34m\u001b[0m\u001b[0;34m\u001b[0m\u001b[0m\n",
      "\u001b[0;32m~/opt/anaconda3/lib/python3.9/site-packages/PyAstronomy/pyaC/pyaPermanent/updateCycler.py\u001b[0m in \u001b[0;36m__init__\u001b[0;34m(self, fn, section, updateCycle)\u001b[0m\n\u001b[1;32m     29\u001b[0m     \u001b[0;32mdef\u001b[0m \u001b[0m__init__\u001b[0m\u001b[0;34m(\u001b[0m\u001b[0mself\u001b[0m\u001b[0;34m,\u001b[0m \u001b[0mfn\u001b[0m\u001b[0;34m,\u001b[0m \u001b[0msection\u001b[0m\u001b[0;34m,\u001b[0m \u001b[0mupdateCycle\u001b[0m\u001b[0;34m=\u001b[0m\u001b[0;36m7\u001b[0m\u001b[0;34m)\u001b[0m\u001b[0;34m:\u001b[0m\u001b[0;34m\u001b[0m\u001b[0;34m\u001b[0m\u001b[0m\n\u001b[1;32m     30\u001b[0m         \u001b[0mself\u001b[0m\u001b[0;34m.\u001b[0m\u001b[0m_config\u001b[0m \u001b[0;34m=\u001b[0m \u001b[0mCP\u001b[0m\u001b[0;34m.\u001b[0m\u001b[0mRawConfigParser\u001b[0m\u001b[0;34m(\u001b[0m\u001b[0;34m)\u001b[0m\u001b[0;34m\u001b[0m\u001b[0;34m\u001b[0m\u001b[0m\n\u001b[0;32m---> 31\u001b[0;31m         \u001b[0mself\u001b[0m\u001b[0;34m.\u001b[0m\u001b[0m_fs\u001b[0m \u001b[0;34m=\u001b[0m \u001b[0mPyAFS\u001b[0m\u001b[0;34m(\u001b[0m\u001b[0;34m)\u001b[0m\u001b[0;34m\u001b[0m\u001b[0;34m\u001b[0m\u001b[0m\n\u001b[0m\u001b[1;32m     32\u001b[0m         \u001b[0mself\u001b[0m\u001b[0;34m.\u001b[0m\u001b[0m_fn\u001b[0m \u001b[0;34m=\u001b[0m \u001b[0mfn\u001b[0m\u001b[0;34m\u001b[0m\u001b[0;34m\u001b[0m\u001b[0m\n\u001b[1;32m     33\u001b[0m         \u001b[0mself\u001b[0m\u001b[0;34m.\u001b[0m\u001b[0m_section\u001b[0m \u001b[0;34m=\u001b[0m \u001b[0msection\u001b[0m\u001b[0;34m\u001b[0m\u001b[0;34m\u001b[0m\u001b[0m\n",
      "\u001b[0;32m~/opt/anaconda3/lib/python3.9/site-packages/PyAstronomy/pyaC/pyaPermanent/pyaFS.py\u001b[0m in \u001b[0;36m__init__\u001b[0;34m(self)\u001b[0m\n\u001b[1;32m    363\u001b[0m         \u001b[0;31m# The next call will throw exception, if there is\u001b[0m\u001b[0;34m\u001b[0m\u001b[0;34m\u001b[0m\u001b[0m\n\u001b[1;32m    364\u001b[0m         \u001b[0;31m# no valid date directory.\u001b[0m\u001b[0;34m\u001b[0m\u001b[0;34m\u001b[0m\u001b[0m\n\u001b[0;32m--> 365\u001b[0;31m         \u001b[0mself\u001b[0m\u001b[0;34m.\u001b[0m\u001b[0mdpath\u001b[0m \u001b[0;34m=\u001b[0m \u001b[0mself\u001b[0m\u001b[0;34m.\u001b[0m\u001b[0mconf\u001b[0m\u001b[0;34m.\u001b[0m\u001b[0mgetDataRoot\u001b[0m\u001b[0;34m(\u001b[0m\u001b[0;34m)\u001b[0m\u001b[0;34m\u001b[0m\u001b[0;34m\u001b[0m\u001b[0m\n\u001b[0m",
      "\u001b[0;32m~/opt/anaconda3/lib/python3.9/site-packages/PyAstronomy/pyaC/pyaPermanent/pyaConfig.py\u001b[0m in \u001b[0;36mgetDataRoot\u001b[0;34m(self)\u001b[0m\n\u001b[1;32m     84\u001b[0m             \u001b[0mhome\u001b[0m \u001b[0mdirectory\u001b[0m\u001b[0;34m.\u001b[0m\u001b[0;34m\u001b[0m\u001b[0;34m\u001b[0m\u001b[0m\n\u001b[1;32m     85\u001b[0m         \"\"\"\n\u001b[0;32m---> 86\u001b[0;31m         \u001b[0mself\u001b[0m\u001b[0;34m.\u001b[0m\u001b[0m__checkDataDir\u001b[0m\u001b[0;34m(\u001b[0m\u001b[0;34m)\u001b[0m\u001b[0;34m\u001b[0m\u001b[0;34m\u001b[0m\u001b[0m\n\u001b[0m\u001b[1;32m     87\u001b[0m         \u001b[0;32mreturn\u001b[0m \u001b[0mself\u001b[0m\u001b[0;34m.\u001b[0m\u001b[0mdpath\u001b[0m\u001b[0;34m\u001b[0m\u001b[0;34m\u001b[0m\u001b[0m\n\u001b[1;32m     88\u001b[0m \u001b[0;34m\u001b[0m\u001b[0m\n",
      "\u001b[0;32m~/opt/anaconda3/lib/python3.9/site-packages/PyAstronomy/pyaC/pyaPermanent/pyaConfig.py\u001b[0m in \u001b[0;36m__checkDataDir\u001b[0;34m(self)\u001b[0m\n\u001b[1;32m     71\u001b[0m         \"\"\"\n\u001b[1;32m     72\u001b[0m         \u001b[0;32mif\u001b[0m \u001b[0mself\u001b[0m\u001b[0;34m.\u001b[0m\u001b[0mdpath\u001b[0m \u001b[0;32mis\u001b[0m \u001b[0;32mNone\u001b[0m\u001b[0;34m:\u001b[0m\u001b[0;34m\u001b[0m\u001b[0;34m\u001b[0m\u001b[0m\n\u001b[0;32m---> 73\u001b[0;31m             raise(PE.PyAValError(\"No valid data and configuration directory for PyA could be found.\",\n\u001b[0m\u001b[1;32m     74\u001b[0m                                  solution=\"Check/Repeat initialization (maybe remove '.pyaConfigWhere' in home directory).\"))\n\u001b[1;32m     75\u001b[0m \u001b[0;34m\u001b[0m\u001b[0m\n",
      "\u001b[0;31mPyAValError\u001b[0m: \n---------------------\nA PyA error occurred:\n---------------------\nType of error: PyA Value Error\nWhat happened?\n    No valid data and configuration directory for PyA could be found.\nWhat are possible solutions?\n  - Check/Repeat initialization (maybe remove '.pyaConfigWhere' in home directory).\n"
     ]
    }
   ],
   "source": [
    "from reddutils import exodus\n",
    "\n",
    "#exopop = exodus.Exoplanet_Archive()\n",
    "#exopop = exodus.Exoplanet_Archive('NasaExoplanetArchive')\n",
    "exopop = exodus.Exoplanet_Archive('ExoplanetEU2')\n",
    "#exopop = exodus.Exoplanet_Archive('ExoplanetsOrg')\n",
    "\n",
    "exopop.display()"
   ]
  },
  {
   "cell_type": "markdown",
   "id": "71628d64",
   "metadata": {},
   "source": [
    "## Try out the histogram mode!"
   ]
  },
  {
   "cell_type": "code",
   "execution_count": 2,
   "id": "2302ec81",
   "metadata": {},
   "outputs": [
    {
     "data": {
      "application/vnd.jupyter.widget-view+json": {
       "model_id": "0335dd3c6c2c4a72ac1269cb754e18d0",
       "version_major": 2,
       "version_minor": 0
      },
      "text/plain": [
       "VBox(children=(Tab(children=(VBox(children=(HBox(children=(Dropdown(description='x-axis:', index=10, options=(…"
      ]
     },
     "metadata": {},
     "output_type": "display_data"
    }
   ],
   "source": [
    "exopop.display_hist()"
   ]
  },
  {
   "cell_type": "markdown",
   "id": "49fee6d5",
   "metadata": {},
   "source": [
    "# Test 2. Periodogram\n",
    "Lets import some RV data:"
   ]
  },
  {
   "cell_type": "markdown",
   "id": "0342dbb7",
   "metadata": {},
   "source": [
    "## Import data\n",
    "RVs for GJ876, from [Millholland et al. 2018](https://iopscience.iop.org/article/10.3847/1538-3881/aaa894#ajaaa894t1)"
   ]
  },
  {
   "cell_type": "code",
   "execution_count": 3,
   "id": "81ae8a7b",
   "metadata": {},
   "outputs": [],
   "source": [
    "import pandas as pd\n",
    "import numpy as np\n",
    "\n",
    "url = 'https://pastebin.com/raw/FKqtW0Se'\n",
    "df = pd.read_table(url, skiprows=[i for i in range(0,25)], delim_whitespace=True,\n",
    "                   usecols=[0,2,3,4,5], names=['Instrument', 'Time', 'RV', 'RVe', 'S-index'])\n",
    "\n",
    "df = df[df['Instrument']==1].drop('Instrument', axis=1)"
   ]
  },
  {
   "cell_type": "markdown",
   "id": "07282a8d",
   "metadata": {},
   "source": [
    "### We select and instrument\n",
    "    1 = ESO/HARPS, Correia et al. (2010A&A...511A..21C);\n",
    "    2 = ESO/HARPS, new;\n",
    "    3 = Keck/HIRES pre-upgrade;\n",
    "    4 = Keck/HIRES post-upgrade;\n",
    "    5 = Automated Planet Finder (APF) Levy Spectrograph;\n",
    "    6 = Carnegie Planet Finder Spectrograph (PFS) on Magellan;"
   ]
  },
  {
   "cell_type": "code",
   "execution_count": 4,
   "id": "d75625d2",
   "metadata": {},
   "outputs": [
    {
     "data": {
      "application/vnd.jupyter.widget-view+json": {
       "model_id": "a683923c3c284bdb8220a33b7d06a352",
       "version_major": 2,
       "version_minor": 0
      },
      "text/plain": [
       "VBox(children=(Tab(children=(VBox(children=(HBox(children=(FileUpload(value={}, description='Upload'),)), HBox…"
      ]
     },
     "metadata": {},
     "output_type": "display_data"
    }
   ],
   "source": [
    "from reddutils import periodogram\n",
    "\n",
    "lsp = periodogram.LSP()\n",
    "lsp.display(df)"
   ]
  },
  {
   "cell_type": "markdown",
   "id": "362385c9",
   "metadata": {},
   "source": [
    "# Test 3. Correlator"
   ]
  },
  {
   "cell_type": "code",
   "execution_count": 5,
   "id": "f4f0a7c7",
   "metadata": {},
   "outputs": [
    {
     "data": {
      "application/vnd.jupyter.widget-view+json": {
       "model_id": "7f2158aacd63450fb6312e00e61bb10a",
       "version_major": 2,
       "version_minor": 0
      },
      "text/plain": [
       "VBox(children=(Tab(children=(VBox(children=(HBox(children=(Dropdown(description='x-axis:', options=('Time', 'R…"
      ]
     },
     "metadata": {},
     "output_type": "display_data"
    }
   ],
   "source": [
    "from reddutils import correlator\n",
    "\n",
    "cor = correlator.correlator()\n",
    "cor.display(df)"
   ]
  },
  {
   "cell_type": "markdown",
   "id": "518ae8df",
   "metadata": {},
   "source": [
    "# Test 4. Fourier gadget"
   ]
  },
  {
   "cell_type": "code",
   "execution_count": 6,
   "id": "576e60b1",
   "metadata": {},
   "outputs": [
    {
     "data": {
      "application/vnd.jupyter.widget-view+json": {
       "model_id": "42f4996edd4346dfb2b0dc69851d2235",
       "version_major": 2,
       "version_minor": 0
      },
      "text/plain": [
       "VBox(children=(Tab(children=(VBox(children=(HBox(children=(Dropdown(description='Signal Type:', options=('Cosi…"
      ]
     },
     "metadata": {},
     "output_type": "display_data"
    }
   ],
   "source": [
    "from reddutils_test import fourier\n",
    "\n",
    "fou = fourier.fourier()\n",
    "fou.display()"
   ]
  },
  {
   "cell_type": "code",
   "execution_count": null,
   "id": "0b163a93",
   "metadata": {},
   "outputs": [],
   "source": []
  }
 ],
 "metadata": {
  "kernelspec": {
   "display_name": "Python 3 (ipykernel)",
   "language": "python",
   "name": "python3"
  },
  "language_info": {
   "codemirror_mode": {
    "name": "ipython",
    "version": 3
   },
   "file_extension": ".py",
   "mimetype": "text/x-python",
   "name": "python",
   "nbconvert_exporter": "python",
   "pygments_lexer": "ipython3",
   "version": "3.9.13"
  }
 },
 "nbformat": 4,
 "nbformat_minor": 5
}
